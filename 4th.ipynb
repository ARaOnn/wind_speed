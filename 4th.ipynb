{
 "cells": [
  {
   "cell_type": "markdown",
   "metadata": {},
   "source": [
    "Import Libraires"
   ]
  },
  {
   "cell_type": "code",
   "execution_count": 19,
   "metadata": {},
   "outputs": [],
   "source": [
    "import numpy as np\n",
    "import pandas as pd\n",
    "import matplotlib.pyplot as plt\n",
    "import os\n",
    "import random\n",
    "import warnings ; warnings.filterwarnings('ignore')\n",
    "from autogluon.tabular import TabularDataset, TabularPredictor\n",
    "from sklearn.model_selection import train_test_split, StratifiedKFold, KFold\n",
    "from sklearn.preprocessing import OneHotEncoder, LabelEncoder, MinMaxScaler\n",
    "from sklearn.metrics import mean_absolute_error\n",
    "\n",
    "# fixed seed\n",
    "SEED = 42\n",
    "def seed_everything(seed):\n",
    "    random.seed(seed)\n",
    "    np.random.seed(seed)\n",
    "    os.environ['PYTHONHASHSEED'] = str(seed)\n",
    "\n",
    "seed_everything(SEED)"
   ]
  },
  {
   "cell_type": "markdown",
   "metadata": {},
   "source": [
    "Load Data"
   ]
  },
  {
   "cell_type": "code",
   "execution_count": 15,
   "metadata": {},
   "outputs": [],
   "source": [
    "path = 'data/'\n",
    "train = pd.read_csv(path + 'train.csv')\n",
    "test = pd.read_csv(path + 'test.csv')"
   ]
  },
  {
   "cell_type": "markdown",
   "metadata": {},
   "source": [
    "Drop unnecessary column"
   ]
  },
  {
   "cell_type": "code",
   "execution_count": 16,
   "metadata": {},
   "outputs": [],
   "source": [
    "x_train = train.drop('ID', axis=1)\n",
    "y_train = train['풍속 (m/s)']\n",
    "x_test = test.drop('ID', axis=1)"
   ]
  },
  {
   "cell_type": "markdown",
   "metadata": {},
   "source": [
    "LabelEncoder & OneHotEncoder"
   ]
  },
  {
   "cell_type": "code",
   "execution_count": 17,
   "metadata": {},
   "outputs": [],
   "source": [
    "le = LabelEncoder()\n",
    "le.fit(x_train['측정 시간대'])\n",
    "x_train['측정 시간대'] = le.transform(x_train['측정 시간대'])\n",
    "x_test['측정 시간대'] = le.transform(x_test['측정 시간대'])"
   ]
  },
  {
   "cell_type": "code",
   "execution_count": 18,
   "metadata": {},
   "outputs": [],
   "source": [
    "temp = np.array(x_train['월']).reshape(-1, 1)\n",
    "ohe = OneHotEncoder()\n",
    "ohe.fit(temp)\n",
    "temp = ohe.transform(temp)\n",
    "temp = temp.toarray()\n",
    "temp = pd.DataFrame(temp, columns=[i for i in range(1, 13)], dtype=int)\n",
    "x_train = pd.concat([x_train.drop('월', axis=1), temp], axis=1)\n",
    "\n",
    "temp = np.array(x_test['월']).reshape(-1, 1)\n",
    "temp = ohe.transform(temp)\n",
    "temp = temp.toarray()\n",
    "temp = pd.DataFrame(temp, columns = [i for i in range(1, 13)], dtype=int)\n",
    "x_test = pd.concat([x_test.drop('월', axis=1), temp], axis=1)\n"
   ]
  },
  {
   "cell_type": "markdown",
   "metadata": {},
   "source": [
    "Autogluon"
   ]
  },
  {
   "cell_type": "code",
   "execution_count": null,
   "metadata": {},
   "outputs": [],
   "source": [
    "train_data = TabularDataset(x_train)\n",
    "test_data = TabularDataset(x_test)\n",
    "\n",
    "save_path = '4th_autogluon/mae_5.5hours'\n",
    "predictor = TabularPredictor(label = '풍속 (m/s)',\n",
    "                             save_path = save_path,\n",
    "                             eval_metric = 'mean_absolute_error',\n",
    "                             ).fit(\n",
    "                                 train_data = train_data,\n",
    "                                 presets = 'best_quality',\n",
    "                                 time_limit= 3600 * 5.5,\n",
    "                                 num_stack_levels = 3\n",
    "                             )\n",
    "pred = predictor.predict(test_data)\n",
    "sub = pd.read_csv(path + 'sample_submission.csv')\n",
    "sub['풍속 (m/s)'] = pred\n",
    "# sub.to_csv(path + '4th_submission_5.5hours.csv', index=False)"
   ]
  },
  {
   "cell_type": "code",
   "execution_count": null,
   "metadata": {},
   "outputs": [],
   "source": [
    "train_data = TabularDataset(x_train)\n",
    "test_data = TabularDataset(x_test)\n",
    "\n",
    "save_path = '4th_autogluon/mae_3.5hours'\n",
    "predictor = TabularPredictor(label = '풍속 (m/s)',\n",
    "                             save_path = save_path,\n",
    "                             eval_metric = 'mean_absolute_error',\n",
    "                             ).fit(\n",
    "                                 train_data = train_data,\n",
    "                                 presets = 'best_quality',\n",
    "                                 time_limit= 3600 * 3.5,\n",
    "                                 num_stack_levels = 3\n",
    "                             )\n",
    "pred = predictor.predict(test_data)\n",
    "sub = pd.read_csv(path + 'sample_submission.csv')\n",
    "sub['풍속 (m/s)'] = pred\n",
    "# sub.to_csv(path + '4th_submission_3.5hours.csv', index=False)"
   ]
  },
  {
   "cell_type": "markdown",
   "metadata": {},
   "source": [
    "Ensemble"
   ]
  },
  {
   "cell_type": "code",
   "execution_count": null,
   "metadata": {},
   "outputs": [],
   "source": [
    "df1 = pd.read_csv(path + '4th_submission_5.5hours.csv')\n",
    "df2 = pd.read_csv(path + '4th_submission_3.5hours.csv')\n",
    "ensembled = (df1['풍속 (m/s)'] + df2['풍속 (m/s)']) / 2\n",
    "df2['풍속 (m/s)'] = ensembled\n",
    "df2.to_csv(path + '4th_submission_ensembled.csv', index=False)"
   ]
  },
  {
   "cell_type": "code",
   "execution_count": null,
   "metadata": {},
   "outputs": [],
   "source": []
  }
 ],
 "metadata": {
  "kernelspec": {
   "display_name": "wind_speed",
   "language": "python",
   "name": "python3"
  },
  "language_info": {
   "codemirror_mode": {
    "name": "ipython",
    "version": 3
   },
   "file_extension": ".py",
   "mimetype": "text/x-python",
   "name": "python",
   "nbconvert_exporter": "python",
   "pygments_lexer": "ipython3",
   "version": "3.10.11"
  },
  "orig_nbformat": 4
 },
 "nbformat": 4,
 "nbformat_minor": 2
}
