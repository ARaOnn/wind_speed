{
 "cells": [
  {
   "cell_type": "code",
   "execution_count": 1,
   "metadata": {},
   "outputs": [],
   "source": [
    "import pandas as pd\n",
    "import numpy as np\n",
    "import matplotlib.pyplot as plt\n",
    "import seaborn as sns\n",
    "from matplotlib import rc\n",
    "rc('font', family='Malgun Gothic')\n",
    "rc('axes', unicode_minus=False)\n"
   ]
  },
  {
   "cell_type": "markdown",
   "metadata": {},
   "source": [
    "# Load Dataset"
   ]
  },
  {
   "cell_type": "code",
   "execution_count": 2,
   "metadata": {},
   "outputs": [],
   "source": [
    "def load_dataset(path):    \n",
    "    cols = ['id', 'month', 'day', 'time', 'temp', 'abs_temp', 'dew_temp', 'hum', 'air_pressure', 'sat_pressure',\n",
    "            'actual_pressure', 'vapor_pressure_deficlt', 'vapor_amount', 'air_density', 'wind_direction', 'wind_speed']\n",
    "    train = pd.read_csv(path + 'train.csv')\n",
    "    test = pd.read_csv(path + 'test.csv')\n",
    "    train.columns = cols\n",
    "    test.columns = cols[:-1]\n",
    "    submission = pd.read_csv(path + 'sample_submission.csv')\n",
    "    return train, test, submission\n",
    "\n",
    "path = 'data/'\n",
    "train, test, submission = load_dataset(path)"
   ]
  },
  {
   "cell_type": "code",
   "execution_count": 3,
   "metadata": {},
   "outputs": [
    {
     "data": {
      "text/html": [
       "<div>\n",
       "<style scoped>\n",
       "    .dataframe tbody tr th:only-of-type {\n",
       "        vertical-align: middle;\n",
       "    }\n",
       "\n",
       "    .dataframe tbody tr th {\n",
       "        vertical-align: top;\n",
       "    }\n",
       "\n",
       "    .dataframe thead th {\n",
       "        text-align: right;\n",
       "    }\n",
       "</style>\n",
       "<table border=\"1\" class=\"dataframe\">\n",
       "  <thead>\n",
       "    <tr style=\"text-align: right;\">\n",
       "      <th></th>\n",
       "      <th>id</th>\n",
       "      <th>month</th>\n",
       "      <th>day</th>\n",
       "      <th>time</th>\n",
       "      <th>temp</th>\n",
       "      <th>abs_temp</th>\n",
       "      <th>dew_temp</th>\n",
       "      <th>hum</th>\n",
       "      <th>air_pressure</th>\n",
       "      <th>sat_pressure</th>\n",
       "      <th>actual_pressure</th>\n",
       "      <th>vapor_pressure_deficlt</th>\n",
       "      <th>vapor_amount</th>\n",
       "      <th>air_density</th>\n",
       "      <th>wind_direction</th>\n",
       "      <th>wind_speed</th>\n",
       "    </tr>\n",
       "  </thead>\n",
       "  <tbody>\n",
       "    <tr>\n",
       "      <th>36579</th>\n",
       "      <td>TRAIN_36579</td>\n",
       "      <td>9</td>\n",
       "      <td>10</td>\n",
       "      <td>저녁</td>\n",
       "      <td>25.65</td>\n",
       "      <td>299.81</td>\n",
       "      <td>15.30</td>\n",
       "      <td>52.81</td>\n",
       "      <td>988.39</td>\n",
       "      <td>32.98</td>\n",
       "      <td>17.41</td>\n",
       "      <td>15.56</td>\n",
       "      <td>11.03</td>\n",
       "      <td>1144.61</td>\n",
       "      <td>225.40</td>\n",
       "      <td>0.36</td>\n",
       "    </tr>\n",
       "    <tr>\n",
       "      <th>36580</th>\n",
       "      <td>TRAIN_36580</td>\n",
       "      <td>3</td>\n",
       "      <td>11</td>\n",
       "      <td>오전</td>\n",
       "      <td>3.14</td>\n",
       "      <td>276.30</td>\n",
       "      <td>1.88</td>\n",
       "      <td>91.40</td>\n",
       "      <td>1000.01</td>\n",
       "      <td>7.66</td>\n",
       "      <td>7.00</td>\n",
       "      <td>0.66</td>\n",
       "      <td>4.37</td>\n",
       "      <td>1257.47</td>\n",
       "      <td>30.67</td>\n",
       "      <td>4.33</td>\n",
       "    </tr>\n",
       "  </tbody>\n",
       "</table>\n",
       "</div>"
      ],
      "text/plain": [
       "                id  month  day time   temp  abs_temp  dew_temp    hum  \\\n",
       "36579  TRAIN_36579      9   10   저녁  25.65    299.81     15.30  52.81   \n",
       "36580  TRAIN_36580      3   11   오전   3.14    276.30      1.88  91.40   \n",
       "\n",
       "       air_pressure  sat_pressure  actual_pressure  vapor_pressure_deficlt  \\\n",
       "36579        988.39         32.98            17.41                   15.56   \n",
       "36580       1000.01          7.66             7.00                    0.66   \n",
       "\n",
       "       vapor_amount  air_density  wind_direction  wind_speed  \n",
       "36579         11.03      1144.61          225.40        0.36  \n",
       "36580          4.37      1257.47           30.67        4.33  "
      ]
     },
     "metadata": {},
     "output_type": "display_data"
    },
    {
     "data": {
      "text/html": [
       "<div>\n",
       "<style scoped>\n",
       "    .dataframe tbody tr th:only-of-type {\n",
       "        vertical-align: middle;\n",
       "    }\n",
       "\n",
       "    .dataframe tbody tr th {\n",
       "        vertical-align: top;\n",
       "    }\n",
       "\n",
       "    .dataframe thead th {\n",
       "        text-align: right;\n",
       "    }\n",
       "</style>\n",
       "<table border=\"1\" class=\"dataframe\">\n",
       "  <thead>\n",
       "    <tr style=\"text-align: right;\">\n",
       "      <th></th>\n",
       "      <th>id</th>\n",
       "      <th>month</th>\n",
       "      <th>day</th>\n",
       "      <th>time</th>\n",
       "      <th>temp</th>\n",
       "      <th>abs_temp</th>\n",
       "      <th>dew_temp</th>\n",
       "      <th>hum</th>\n",
       "      <th>air_pressure</th>\n",
       "      <th>sat_pressure</th>\n",
       "      <th>actual_pressure</th>\n",
       "      <th>vapor_pressure_deficlt</th>\n",
       "      <th>vapor_amount</th>\n",
       "      <th>air_density</th>\n",
       "      <th>wind_direction</th>\n",
       "    </tr>\n",
       "  </thead>\n",
       "  <tbody>\n",
       "    <tr>\n",
       "      <th>15676</th>\n",
       "      <td>TEST_15676</td>\n",
       "      <td>2</td>\n",
       "      <td>4</td>\n",
       "      <td>새벽</td>\n",
       "      <td>3.07</td>\n",
       "      <td>276.68</td>\n",
       "      <td>-0.95</td>\n",
       "      <td>74.8</td>\n",
       "      <td>994.31</td>\n",
       "      <td>7.62</td>\n",
       "      <td>5.70</td>\n",
       "      <td>1.92</td>\n",
       "      <td>3.57</td>\n",
       "      <td>1251.24</td>\n",
       "      <td>269.7</td>\n",
       "    </tr>\n",
       "    <tr>\n",
       "      <th>15677</th>\n",
       "      <td>TEST_15677</td>\n",
       "      <td>2</td>\n",
       "      <td>1</td>\n",
       "      <td>오전</td>\n",
       "      <td>9.01</td>\n",
       "      <td>283.38</td>\n",
       "      <td>8.36</td>\n",
       "      <td>95.7</td>\n",
       "      <td>985.13</td>\n",
       "      <td>11.50</td>\n",
       "      <td>11.01</td>\n",
       "      <td>0.49</td>\n",
       "      <td>6.98</td>\n",
       "      <td>1211.08</td>\n",
       "      <td>196.2</td>\n",
       "    </tr>\n",
       "  </tbody>\n",
       "</table>\n",
       "</div>"
      ],
      "text/plain": [
       "               id  month  day time  temp  abs_temp  dew_temp   hum  \\\n",
       "15676  TEST_15676      2    4   새벽  3.07    276.68     -0.95  74.8   \n",
       "15677  TEST_15677      2    1   오전  9.01    283.38      8.36  95.7   \n",
       "\n",
       "       air_pressure  sat_pressure  actual_pressure  vapor_pressure_deficlt  \\\n",
       "15676        994.31          7.62             5.70                    1.92   \n",
       "15677        985.13         11.50            11.01                    0.49   \n",
       "\n",
       "       vapor_amount  air_density  wind_direction  \n",
       "15676          3.57      1251.24           269.7  \n",
       "15677          6.98      1211.08           196.2  "
      ]
     },
     "metadata": {},
     "output_type": "display_data"
    }
   ],
   "source": [
    "display(train.tail(2))\n",
    "display(test.tail(2))"
   ]
  },
  {
   "cell_type": "code",
   "execution_count": 4,
   "metadata": {},
   "outputs": [
    {
     "name": "stdout",
     "output_type": "stream",
     "text": [
      "-- Size -- \n",
      "Train-set : (36581, 16)\n",
      "Test-set  : (15678, 15)\n"
     ]
    }
   ],
   "source": [
    "print(\"-- Size -- \")\n",
    "print(f\"Train-set : {train.shape}\")\n",
    "print(f\"Test-set  : {test.shape}\")"
   ]
  },
  {
   "cell_type": "code",
   "execution_count": 5,
   "metadata": {},
   "outputs": [
    {
     "name": "stdout",
     "output_type": "stream",
     "text": [
      "<class 'pandas.core.frame.DataFrame'>\n",
      "RangeIndex: 36581 entries, 0 to 36580\n",
      "Data columns (total 16 columns):\n",
      " #   Column                  Non-Null Count  Dtype  \n",
      "---  ------                  --------------  -----  \n",
      " 0   id                      36581 non-null  object \n",
      " 1   month                   36581 non-null  int64  \n",
      " 2   day                     36581 non-null  int64  \n",
      " 3   time                    36581 non-null  object \n",
      " 4   temp                    36581 non-null  float64\n",
      " 5   abs_temp                36581 non-null  float64\n",
      " 6   dew_temp                36581 non-null  float64\n",
      " 7   hum                     36581 non-null  float64\n",
      " 8   air_pressure            36581 non-null  float64\n",
      " 9   sat_pressure            36581 non-null  float64\n",
      " 10  actual_pressure         36581 non-null  float64\n",
      " 11  vapor_pressure_deficlt  36581 non-null  float64\n",
      " 12  vapor_amount            36581 non-null  float64\n",
      " 13  air_density             36581 non-null  float64\n",
      " 14  wind_direction          36581 non-null  float64\n",
      " 15  wind_speed              36581 non-null  float64\n",
      "dtypes: float64(12), int64(2), object(2)\n",
      "memory usage: 4.5+ MB\n"
     ]
    }
   ],
   "source": [
    "train.info()"
   ]
  },
  {
   "cell_type": "code",
   "execution_count": 6,
   "metadata": {},
   "outputs": [
    {
     "data": {
      "text/html": [
       "<div>\n",
       "<style scoped>\n",
       "    .dataframe tbody tr th:only-of-type {\n",
       "        vertical-align: middle;\n",
       "    }\n",
       "\n",
       "    .dataframe tbody tr th {\n",
       "        vertical-align: top;\n",
       "    }\n",
       "\n",
       "    .dataframe thead th {\n",
       "        text-align: right;\n",
       "    }\n",
       "</style>\n",
       "<table border=\"1\" class=\"dataframe\">\n",
       "  <thead>\n",
       "    <tr style=\"text-align: right;\">\n",
       "      <th></th>\n",
       "      <th>month</th>\n",
       "      <th>day</th>\n",
       "      <th>temp</th>\n",
       "      <th>abs_temp</th>\n",
       "      <th>dew_temp</th>\n",
       "      <th>hum</th>\n",
       "      <th>air_pressure</th>\n",
       "      <th>sat_pressure</th>\n",
       "      <th>actual_pressure</th>\n",
       "      <th>vapor_pressure_deficlt</th>\n",
       "      <th>vapor_amount</th>\n",
       "      <th>air_density</th>\n",
       "      <th>wind_direction</th>\n",
       "      <th>wind_speed</th>\n",
       "    </tr>\n",
       "  </thead>\n",
       "  <tbody>\n",
       "    <tr>\n",
       "      <th>count</th>\n",
       "      <td>36581.000000</td>\n",
       "      <td>36581.000000</td>\n",
       "      <td>36581.000000</td>\n",
       "      <td>36581.000000</td>\n",
       "      <td>36581.000000</td>\n",
       "      <td>36581.000000</td>\n",
       "      <td>36581.000000</td>\n",
       "      <td>36581.000000</td>\n",
       "      <td>36581.000000</td>\n",
       "      <td>36581.000000</td>\n",
       "      <td>36581.000000</td>\n",
       "      <td>36581.000000</td>\n",
       "      <td>36581.00000</td>\n",
       "      <td>36581.000000</td>\n",
       "    </tr>\n",
       "    <tr>\n",
       "      <th>mean</th>\n",
       "      <td>6.511468</td>\n",
       "      <td>15.648561</td>\n",
       "      <td>9.992694</td>\n",
       "      <td>283.971095</td>\n",
       "      <td>5.453064</td>\n",
       "      <td>75.827418</td>\n",
       "      <td>990.032953</td>\n",
       "      <td>14.037167</td>\n",
       "      <td>9.786895</td>\n",
       "      <td>4.250224</td>\n",
       "      <td>6.178010</td>\n",
       "      <td>1214.580682</td>\n",
       "      <td>176.58240</td>\n",
       "      <td>2.036446</td>\n",
       "    </tr>\n",
       "    <tr>\n",
       "      <th>std</th>\n",
       "      <td>3.458678</td>\n",
       "      <td>8.803467</td>\n",
       "      <td>8.237177</td>\n",
       "      <td>8.354235</td>\n",
       "      <td>6.327009</td>\n",
       "      <td>16.089188</td>\n",
       "      <td>8.824477</td>\n",
       "      <td>8.075680</td>\n",
       "      <td>4.185701</td>\n",
       "      <td>5.191128</td>\n",
       "      <td>2.655054</td>\n",
       "      <td>39.528520</td>\n",
       "      <td>84.38269</td>\n",
       "      <td>1.544146</td>\n",
       "    </tr>\n",
       "    <tr>\n",
       "      <th>min</th>\n",
       "      <td>1.000000</td>\n",
       "      <td>1.000000</td>\n",
       "      <td>-13.930000</td>\n",
       "      <td>258.870000</td>\n",
       "      <td>-15.560000</td>\n",
       "      <td>23.640000</td>\n",
       "      <td>956.890000</td>\n",
       "      <td>2.070000</td>\n",
       "      <td>1.810000</td>\n",
       "      <td>0.000000</td>\n",
       "      <td>1.120000</td>\n",
       "      <td>1110.650000</td>\n",
       "      <td>0.01000</td>\n",
       "      <td>0.100000</td>\n",
       "    </tr>\n",
       "    <tr>\n",
       "      <th>25%</th>\n",
       "      <td>4.000000</td>\n",
       "      <td>8.000000</td>\n",
       "      <td>3.650000</td>\n",
       "      <td>277.700000</td>\n",
       "      <td>0.450000</td>\n",
       "      <td>65.360000</td>\n",
       "      <td>985.100000</td>\n",
       "      <td>7.940000</td>\n",
       "      <td>6.310000</td>\n",
       "      <td>0.950000</td>\n",
       "      <td>3.980000</td>\n",
       "      <td>1184.030000</td>\n",
       "      <td>129.40000</td>\n",
       "      <td>0.920000</td>\n",
       "    </tr>\n",
       "    <tr>\n",
       "      <th>50%</th>\n",
       "      <td>7.000000</td>\n",
       "      <td>16.000000</td>\n",
       "      <td>9.130000</td>\n",
       "      <td>283.170000</td>\n",
       "      <td>5.070000</td>\n",
       "      <td>79.000000</td>\n",
       "      <td>990.250000</td>\n",
       "      <td>11.590000</td>\n",
       "      <td>8.770000</td>\n",
       "      <td>2.250000</td>\n",
       "      <td>5.520000</td>\n",
       "      <td>1214.650000</td>\n",
       "      <td>199.50000</td>\n",
       "      <td>1.630000</td>\n",
       "    </tr>\n",
       "    <tr>\n",
       "      <th>75%</th>\n",
       "      <td>9.000000</td>\n",
       "      <td>23.000000</td>\n",
       "      <td>16.350000</td>\n",
       "      <td>290.370000</td>\n",
       "      <td>10.950000</td>\n",
       "      <td>89.200000</td>\n",
       "      <td>995.700000</td>\n",
       "      <td>18.620000</td>\n",
       "      <td>13.100000</td>\n",
       "      <td>5.410000</td>\n",
       "      <td>8.270000</td>\n",
       "      <td>1241.600000</td>\n",
       "      <td>233.90000</td>\n",
       "      <td>2.700000</td>\n",
       "    </tr>\n",
       "    <tr>\n",
       "      <th>max</th>\n",
       "      <td>12.000000</td>\n",
       "      <td>31.000000</td>\n",
       "      <td>34.340000</td>\n",
       "      <td>308.620000</td>\n",
       "      <td>20.150000</td>\n",
       "      <td>100.000000</td>\n",
       "      <td>1015.300000</td>\n",
       "      <td>54.270000</td>\n",
       "      <td>23.640000</td>\n",
       "      <td>41.230000</td>\n",
       "      <td>14.980000</td>\n",
       "      <td>1349.460000</td>\n",
       "      <td>360.00000</td>\n",
       "      <td>11.890000</td>\n",
       "    </tr>\n",
       "  </tbody>\n",
       "</table>\n",
       "</div>"
      ],
      "text/plain": [
       "              month           day          temp      abs_temp      dew_temp  \\\n",
       "count  36581.000000  36581.000000  36581.000000  36581.000000  36581.000000   \n",
       "mean       6.511468     15.648561      9.992694    283.971095      5.453064   \n",
       "std        3.458678      8.803467      8.237177      8.354235      6.327009   \n",
       "min        1.000000      1.000000    -13.930000    258.870000    -15.560000   \n",
       "25%        4.000000      8.000000      3.650000    277.700000      0.450000   \n",
       "50%        7.000000     16.000000      9.130000    283.170000      5.070000   \n",
       "75%        9.000000     23.000000     16.350000    290.370000     10.950000   \n",
       "max       12.000000     31.000000     34.340000    308.620000     20.150000   \n",
       "\n",
       "                hum  air_pressure  sat_pressure  actual_pressure  \\\n",
       "count  36581.000000  36581.000000  36581.000000     36581.000000   \n",
       "mean      75.827418    990.032953     14.037167         9.786895   \n",
       "std       16.089188      8.824477      8.075680         4.185701   \n",
       "min       23.640000    956.890000      2.070000         1.810000   \n",
       "25%       65.360000    985.100000      7.940000         6.310000   \n",
       "50%       79.000000    990.250000     11.590000         8.770000   \n",
       "75%       89.200000    995.700000     18.620000        13.100000   \n",
       "max      100.000000   1015.300000     54.270000        23.640000   \n",
       "\n",
       "       vapor_pressure_deficlt  vapor_amount   air_density  wind_direction  \\\n",
       "count            36581.000000  36581.000000  36581.000000     36581.00000   \n",
       "mean                 4.250224      6.178010   1214.580682       176.58240   \n",
       "std                  5.191128      2.655054     39.528520        84.38269   \n",
       "min                  0.000000      1.120000   1110.650000         0.01000   \n",
       "25%                  0.950000      3.980000   1184.030000       129.40000   \n",
       "50%                  2.250000      5.520000   1214.650000       199.50000   \n",
       "75%                  5.410000      8.270000   1241.600000       233.90000   \n",
       "max                 41.230000     14.980000   1349.460000       360.00000   \n",
       "\n",
       "         wind_speed  \n",
       "count  36581.000000  \n",
       "mean       2.036446  \n",
       "std        1.544146  \n",
       "min        0.100000  \n",
       "25%        0.920000  \n",
       "50%        1.630000  \n",
       "75%        2.700000  \n",
       "max       11.890000  "
      ]
     },
     "execution_count": 6,
     "metadata": {},
     "output_type": "execute_result"
    }
   ],
   "source": [
    "train.describe()"
   ]
  },
  {
   "cell_type": "code",
   "execution_count": 7,
   "metadata": {},
   "outputs": [
    {
     "name": "stdout",
     "output_type": "stream",
     "text": [
      "<class 'pandas.core.frame.DataFrame'>\n",
      "RangeIndex: 15678 entries, 0 to 15677\n",
      "Data columns (total 15 columns):\n",
      " #   Column                  Non-Null Count  Dtype  \n",
      "---  ------                  --------------  -----  \n",
      " 0   id                      15678 non-null  object \n",
      " 1   month                   15678 non-null  int64  \n",
      " 2   day                     15678 non-null  int64  \n",
      " 3   time                    15678 non-null  object \n",
      " 4   temp                    15678 non-null  float64\n",
      " 5   abs_temp                15678 non-null  float64\n",
      " 6   dew_temp                15678 non-null  float64\n",
      " 7   hum                     15678 non-null  float64\n",
      " 8   air_pressure            15678 non-null  float64\n",
      " 9   sat_pressure            15678 non-null  float64\n",
      " 10  actual_pressure         15678 non-null  float64\n",
      " 11  vapor_pressure_deficlt  15678 non-null  float64\n",
      " 12  vapor_amount            15678 non-null  float64\n",
      " 13  air_density             15678 non-null  float64\n",
      " 14  wind_direction          15678 non-null  float64\n",
      "dtypes: float64(11), int64(2), object(2)\n",
      "memory usage: 1.8+ MB\n"
     ]
    }
   ],
   "source": [
    "test.info()"
   ]
  },
  {
   "cell_type": "code",
   "execution_count": 8,
   "metadata": {},
   "outputs": [
    {
     "data": {
      "text/html": [
       "<div>\n",
       "<style scoped>\n",
       "    .dataframe tbody tr th:only-of-type {\n",
       "        vertical-align: middle;\n",
       "    }\n",
       "\n",
       "    .dataframe tbody tr th {\n",
       "        vertical-align: top;\n",
       "    }\n",
       "\n",
       "    .dataframe thead th {\n",
       "        text-align: right;\n",
       "    }\n",
       "</style>\n",
       "<table border=\"1\" class=\"dataframe\">\n",
       "  <thead>\n",
       "    <tr style=\"text-align: right;\">\n",
       "      <th></th>\n",
       "      <th>month</th>\n",
       "      <th>day</th>\n",
       "      <th>temp</th>\n",
       "      <th>abs_temp</th>\n",
       "      <th>dew_temp</th>\n",
       "      <th>hum</th>\n",
       "      <th>air_pressure</th>\n",
       "      <th>sat_pressure</th>\n",
       "      <th>actual_pressure</th>\n",
       "      <th>vapor_pressure_deficlt</th>\n",
       "      <th>vapor_amount</th>\n",
       "      <th>air_density</th>\n",
       "      <th>wind_direction</th>\n",
       "    </tr>\n",
       "  </thead>\n",
       "  <tbody>\n",
       "    <tr>\n",
       "      <th>count</th>\n",
       "      <td>15678.000000</td>\n",
       "      <td>15678.000000</td>\n",
       "      <td>15678.000000</td>\n",
       "      <td>15678.000000</td>\n",
       "      <td>15678.000000</td>\n",
       "      <td>15678.000000</td>\n",
       "      <td>15678.000000</td>\n",
       "      <td>15678.000000</td>\n",
       "      <td>15678.000000</td>\n",
       "      <td>15678.000000</td>\n",
       "      <td>15678.000000</td>\n",
       "      <td>15678.000000</td>\n",
       "      <td>15678.000000</td>\n",
       "    </tr>\n",
       "    <tr>\n",
       "      <th>mean</th>\n",
       "      <td>6.419824</td>\n",
       "      <td>15.704809</td>\n",
       "      <td>9.979285</td>\n",
       "      <td>283.962533</td>\n",
       "      <td>5.432401</td>\n",
       "      <td>75.785707</td>\n",
       "      <td>989.973395</td>\n",
       "      <td>14.009120</td>\n",
       "      <td>9.770344</td>\n",
       "      <td>4.238746</td>\n",
       "      <td>6.167816</td>\n",
       "      <td>1214.566204</td>\n",
       "      <td>177.661325</td>\n",
       "    </tr>\n",
       "    <tr>\n",
       "      <th>std</th>\n",
       "      <td>3.431733</td>\n",
       "      <td>8.767048</td>\n",
       "      <td>8.209709</td>\n",
       "      <td>8.327606</td>\n",
       "      <td>6.311756</td>\n",
       "      <td>16.124003</td>\n",
       "      <td>8.863179</td>\n",
       "      <td>8.000735</td>\n",
       "      <td>4.180016</td>\n",
       "      <td>5.108952</td>\n",
       "      <td>2.651229</td>\n",
       "      <td>39.441985</td>\n",
       "      <td>84.502829</td>\n",
       "    </tr>\n",
       "    <tr>\n",
       "      <th>min</th>\n",
       "      <td>1.000000</td>\n",
       "      <td>1.000000</td>\n",
       "      <td>-13.740000</td>\n",
       "      <td>259.120000</td>\n",
       "      <td>-15.310000</td>\n",
       "      <td>23.940000</td>\n",
       "      <td>956.990000</td>\n",
       "      <td>2.110000</td>\n",
       "      <td>1.850000</td>\n",
       "      <td>0.000000</td>\n",
       "      <td>1.150000</td>\n",
       "      <td>1111.110000</td>\n",
       "      <td>0.150000</td>\n",
       "    </tr>\n",
       "    <tr>\n",
       "      <th>25%</th>\n",
       "      <td>3.000000</td>\n",
       "      <td>8.000000</td>\n",
       "      <td>3.640000</td>\n",
       "      <td>277.762500</td>\n",
       "      <td>0.410000</td>\n",
       "      <td>65.190000</td>\n",
       "      <td>985.070000</td>\n",
       "      <td>7.930000</td>\n",
       "      <td>6.290000</td>\n",
       "      <td>0.950000</td>\n",
       "      <td>3.970000</td>\n",
       "      <td>1184.332500</td>\n",
       "      <td>130.950000</td>\n",
       "    </tr>\n",
       "    <tr>\n",
       "      <th>50%</th>\n",
       "      <td>6.000000</td>\n",
       "      <td>16.000000</td>\n",
       "      <td>9.200000</td>\n",
       "      <td>283.200000</td>\n",
       "      <td>4.990000</td>\n",
       "      <td>79.200000</td>\n",
       "      <td>990.180000</td>\n",
       "      <td>11.650000</td>\n",
       "      <td>8.720000</td>\n",
       "      <td>2.280000</td>\n",
       "      <td>5.490000</td>\n",
       "      <td>1214.285000</td>\n",
       "      <td>200.300000</td>\n",
       "    </tr>\n",
       "    <tr>\n",
       "      <th>75%</th>\n",
       "      <td>9.000000</td>\n",
       "      <td>23.000000</td>\n",
       "      <td>16.300000</td>\n",
       "      <td>290.320000</td>\n",
       "      <td>10.880000</td>\n",
       "      <td>89.200000</td>\n",
       "      <td>995.740000</td>\n",
       "      <td>18.560000</td>\n",
       "      <td>13.040000</td>\n",
       "      <td>5.450000</td>\n",
       "      <td>8.230000</td>\n",
       "      <td>1241.470000</td>\n",
       "      <td>235.100000</td>\n",
       "    </tr>\n",
       "    <tr>\n",
       "      <th>max</th>\n",
       "      <td>12.000000</td>\n",
       "      <td>31.000000</td>\n",
       "      <td>34.350000</td>\n",
       "      <td>308.620000</td>\n",
       "      <td>19.860000</td>\n",
       "      <td>100.000000</td>\n",
       "      <td>1015.350000</td>\n",
       "      <td>54.300000</td>\n",
       "      <td>23.220000</td>\n",
       "      <td>41.080000</td>\n",
       "      <td>14.710000</td>\n",
       "      <td>1347.930000</td>\n",
       "      <td>360.000000</td>\n",
       "    </tr>\n",
       "  </tbody>\n",
       "</table>\n",
       "</div>"
      ],
      "text/plain": [
       "              month           day          temp      abs_temp      dew_temp  \\\n",
       "count  15678.000000  15678.000000  15678.000000  15678.000000  15678.000000   \n",
       "mean       6.419824     15.704809      9.979285    283.962533      5.432401   \n",
       "std        3.431733      8.767048      8.209709      8.327606      6.311756   \n",
       "min        1.000000      1.000000    -13.740000    259.120000    -15.310000   \n",
       "25%        3.000000      8.000000      3.640000    277.762500      0.410000   \n",
       "50%        6.000000     16.000000      9.200000    283.200000      4.990000   \n",
       "75%        9.000000     23.000000     16.300000    290.320000     10.880000   \n",
       "max       12.000000     31.000000     34.350000    308.620000     19.860000   \n",
       "\n",
       "                hum  air_pressure  sat_pressure  actual_pressure  \\\n",
       "count  15678.000000  15678.000000  15678.000000     15678.000000   \n",
       "mean      75.785707    989.973395     14.009120         9.770344   \n",
       "std       16.124003      8.863179      8.000735         4.180016   \n",
       "min       23.940000    956.990000      2.110000         1.850000   \n",
       "25%       65.190000    985.070000      7.930000         6.290000   \n",
       "50%       79.200000    990.180000     11.650000         8.720000   \n",
       "75%       89.200000    995.740000     18.560000        13.040000   \n",
       "max      100.000000   1015.350000     54.300000        23.220000   \n",
       "\n",
       "       vapor_pressure_deficlt  vapor_amount   air_density  wind_direction  \n",
       "count            15678.000000  15678.000000  15678.000000    15678.000000  \n",
       "mean                 4.238746      6.167816   1214.566204      177.661325  \n",
       "std                  5.108952      2.651229     39.441985       84.502829  \n",
       "min                  0.000000      1.150000   1111.110000        0.150000  \n",
       "25%                  0.950000      3.970000   1184.332500      130.950000  \n",
       "50%                  2.280000      5.490000   1214.285000      200.300000  \n",
       "75%                  5.450000      8.230000   1241.470000      235.100000  \n",
       "max                 41.080000     14.710000   1347.930000      360.000000  "
      ]
     },
     "execution_count": 8,
     "metadata": {},
     "output_type": "execute_result"
    }
   ],
   "source": [
    "test.describe()"
   ]
  },
  {
   "cell_type": "code",
   "execution_count": 9,
   "metadata": {},
   "outputs": [
    {
     "data": {
      "text/plain": [
       "Index(['wind_speed'], dtype='object')"
      ]
     },
     "execution_count": 9,
     "metadata": {},
     "output_type": "execute_result"
    }
   ],
   "source": [
    "train.columns.difference(test.columns)"
   ]
  },
  {
   "cell_type": "markdown",
   "metadata": {},
   "source": [
    "## ID"
   ]
  },
  {
   "cell_type": "code",
   "execution_count": 10,
   "metadata": {},
   "outputs": [
    {
     "name": "stdout",
     "output_type": "stream",
     "text": [
      "Min/Max of id in Train-set\n"
     ]
    },
    {
     "data": {
      "text/plain": [
       "min    TRAIN_00000\n",
       "max    TRAIN_36580\n",
       "Name: id, dtype: object"
      ]
     },
     "metadata": {},
     "output_type": "display_data"
    },
    {
     "name": "stdout",
     "output_type": "stream",
     "text": [
      "================================================================================\n",
      "Size : 36581\n"
     ]
    }
   ],
   "source": [
    "print(\"Min/Max of id in Train-set\")\n",
    "display( train['id'].agg(['min','max']) )\n",
    "\n",
    "print('='* 80)\n",
    "print(f'Size : {len(train)}')"
   ]
  },
  {
   "cell_type": "code",
   "execution_count": 11,
   "metadata": {},
   "outputs": [
    {
     "name": "stdout",
     "output_type": "stream",
     "text": [
      "Min/Max of id in Test-set\n"
     ]
    },
    {
     "data": {
      "text/plain": [
       "min    TEST_00000\n",
       "max    TEST_15677\n",
       "Name: id, dtype: object"
      ]
     },
     "metadata": {},
     "output_type": "display_data"
    },
    {
     "name": "stdout",
     "output_type": "stream",
     "text": [
      "================================================================================\n",
      "Size : 15678\n"
     ]
    }
   ],
   "source": [
    "# test-set의 id는?\n",
    "print(\"Min/Max of id in Test-set\")\n",
    "display( test['id'].agg(['min','max']) )\n",
    "\n",
    "print('='* 80)\n",
    "print(f'Size : {len(test)}')"
   ]
  },
  {
   "cell_type": "code",
   "execution_count": 12,
   "metadata": {},
   "outputs": [
    {
     "data": {
      "text/plain": [
       "Index(['id', 'month', 'day', 'time', 'temp', 'abs_temp', 'dew_temp', 'hum',\n",
       "       'air_pressure', 'sat_pressure', 'actual_pressure',\n",
       "       'vapor_pressure_deficlt', 'vapor_amount', 'air_density',\n",
       "       'wind_direction', 'wind_speed'],\n",
       "      dtype='object')"
      ]
     },
     "execution_count": 12,
     "metadata": {},
     "output_type": "execute_result"
    }
   ],
   "source": [
    "train.columns"
   ]
  },
  {
   "cell_type": "code",
   "execution_count": 13,
   "metadata": {},
   "outputs": [
    {
     "name": "stdout",
     "output_type": "stream",
     "text": [
      "Min/Max of date in Train-set\n"
     ]
    },
    {
     "data": {
      "text/plain": [
       "min     1\n",
       "max    12\n",
       "Name: month, dtype: int64"
      ]
     },
     "metadata": {},
     "output_type": "display_data"
    },
    {
     "name": "stdout",
     "output_type": "stream",
     "text": [
      "================================================================================\n",
      "Unique : [1, 2, 3, 4, 5, 6, 7, 8, 9, 10, 11, 12]\n"
     ]
    }
   ],
   "source": [
    "print(\"Min/Max of date in Train-set\")\n",
    "display( train['month'].agg(['min','max']) )\n",
    "\n",
    "print('='* 80)\n",
    "print(f'Unique : {sorted(train[\"month\"].unique())}')"
   ]
  },
  {
   "cell_type": "code",
   "execution_count": 14,
   "metadata": {},
   "outputs": [
    {
     "name": "stdout",
     "output_type": "stream",
     "text": [
      "Min/Max of date in Test-set\n"
     ]
    },
    {
     "data": {
      "text/plain": [
       "min     1\n",
       "max    12\n",
       "Name: month, dtype: int64"
      ]
     },
     "metadata": {},
     "output_type": "display_data"
    },
    {
     "name": "stdout",
     "output_type": "stream",
     "text": [
      "================================================================================\n",
      "Unique : [1, 2, 3, 4, 5, 6, 7, 8, 9, 10, 11, 12]\n"
     ]
    }
   ],
   "source": [
    "print(\"Min/Max of date in Test-set\")\n",
    "display( test['month'].agg(['min','max']) )\n",
    "\n",
    "print('='* 80)\n",
    "print(f'Unique : {sorted(test[\"month\"].unique())}')"
   ]
  },
  {
   "cell_type": "code",
   "execution_count": 15,
   "metadata": {},
   "outputs": [
    {
     "data": {
      "image/png": "[encoded data removed]",
      "text/plain": [
       "<Figure size 1200x800 with 1 Axes>"
      ]
     },
     "metadata": {},
     "output_type": "display_data"
    }
   ],
   "source": [
    "fig, ax = plt.subplots(figsize=(12, 8))\n",
    "\n",
    "train['month'].value_counts().sort_index().plot(color='b', lw=2, label='train')\n",
    "test['month'].value_counts().sort_index().plot(color='r', lw=2, label='test')\n",
    "\n",
    "ax.legend()\n",
    "ax.set_xlabel('Month')\n",
    "ax.set_ylabel('# of rows')\n",
    "ax.set_xticks(range(1, 13))\n",
    "ax.set_title('Distribution of month in Train / Test-set')\n",
    "plt.show()"
   ]
  },
  {
   "cell_type": "code",
   "execution_count": 16,
   "metadata": {},
   "outputs": [
    {
     "name": "stdout",
     "output_type": "stream",
     "text": [
      "Min/Max of day in Train-set\n"
     ]
    },
    {
     "data": {
      "text/plain": [
       "min     1\n",
       "max    31\n",
       "Name: day, dtype: int64"
      ]
     },
     "metadata": {},
     "output_type": "display_data"
    },
    {
     "name": "stdout",
     "output_type": "stream",
     "text": [
      "================================================================================\n",
      "Unique : [1, 2, 3, 4, 5, 6, 7, 8, 9, 10, 11, 12, 13, 14, 15, 16, 17, 18, 19, 20, 21, 22, 23, 24, 25, 26, 27, 28, 29, 30, 31]\n"
     ]
    }
   ],
   "source": [
    "print(\"Min/Max of day in Train-set\")\n",
    "display( train['day'].agg(['min','max']) )\n",
    "\n",
    "print('='* 80)\n",
    "print(f'Unique : {sorted(train[\"day\"].unique())}')"
   ]
  },
  {
   "cell_type": "code",
   "execution_count": 17,
   "metadata": {},
   "outputs": [
    {
     "name": "stdout",
     "output_type": "stream",
     "text": [
      "Min/Max of day in Test-set\n"
     ]
    },
    {
     "data": {
      "text/plain": [
       "min     1\n",
       "max    31\n",
       "Name: day, dtype: int64"
      ]
     },
     "metadata": {},
     "output_type": "display_data"
    },
    {
     "name": "stdout",
     "output_type": "stream",
     "text": [
      "================================================================================\n",
      "Unique : [1, 2, 3, 4, 5, 6, 7, 8, 9, 10, 11, 12, 13, 14, 15, 16, 17, 18, 19, 20, 21, 22, 23, 24, 25, 26, 27, 28, 29, 30, 31]\n"
     ]
    }
   ],
   "source": [
    "print(\"Min/Max of day in Test-set\")\n",
    "display( test['day'].agg(['min','max']) )\n",
    "\n",
    "print('='* 80)\n",
    "print(f'Unique : {sorted(test[\"day\"].unique())}')"
   ]
  },
  {
   "cell_type": "code",
   "execution_count": 18,
   "metadata": {},
   "outputs": [
    {
     "data": {
      "image/png": "[encoded data removed]",
      "text/plain": [
       "<Figure size 1200x800 with 1 Axes>"
      ]
     },
     "metadata": {},
     "output_type": "display_data"
    }
   ],
   "source": [
    "# 31일 데이터가 적다\n",
    "fig, ax = plt.subplots(figsize=(12, 8))\n",
    "\n",
    "train['day'].value_counts().sort_index().plot(color='b', lw=2, label='train')\n",
    "test['day'].value_counts().sort_index().plot(color='r', lw=2, label='test')\n",
    "\n",
    "ax.legend()\n",
    "ax.set_xlabel('day')\n",
    "ax.set_ylabel('# of rows')\n",
    "ax.set_xticks(range(1, 32))\n",
    "ax.set_title('Distribution of day in Train / Test-set')\n",
    "plt.show()"
   ]
  },
  {
   "cell_type": "code",
   "execution_count": 19,
   "metadata": {},
   "outputs": [
    {
     "name": "stdout",
     "output_type": "stream",
     "text": [
      "================================================================================\n",
      "Unique : ['새벽', '오전', '오후', '저녁']\n",
      "================================================================================\n",
      "Unique : ['새벽', '오전', '오후', '저녁']\n"
     ]
    }
   ],
   "source": [
    "print('='* 80)\n",
    "print(f'Unique : {sorted(train[\"time\"].unique())}')\n",
    "\n",
    "print('='* 80)\n",
    "print(f'Unique : {sorted(test[\"time\"].unique())}')"
   ]
  },
  {
   "cell_type": "code",
   "execution_count": 20,
   "metadata": {},
   "outputs": [
    {
     "data": {
      "image/png": "[encoded data removed]",
      "text/plain": [
       "<Figure size 1200x800 with 1 Axes>"
      ]
     },
     "metadata": {},
     "output_type": "display_data"
    }
   ],
   "source": [
    "fig, ax = plt.subplots(figsize=(12, 8))\n",
    "\n",
    "train['time'].value_counts().sort_index().plot(color='b', lw=2, label='train')\n",
    "test['time'].value_counts().sort_index().plot(color='r', lw=2, label='test')\n",
    "\n",
    "ax.legend()\n",
    "ax.set_xlabel('time')\n",
    "ax.set_ylabel('# of rows')\n",
    "# ax.set_xticks(range(1, 5), ['새벽', '오전', '오후', '저녁'])\n",
    "ax.set_title('Distribution of month in Train / Test-set')\n",
    "plt.show()"
   ]
  },
  {
   "cell_type": "code",
   "execution_count": 21,
   "metadata": {},
   "outputs": [
    {
     "name": "stdout",
     "output_type": "stream",
     "text": [
      "count    36581.000000\n",
      "mean         9.992694\n",
      "std          8.237177\n",
      "min        -13.930000\n",
      "25%          3.650000\n",
      "50%          9.130000\n",
      "75%         16.350000\n",
      "max         34.340000\n",
      "Name: temp, dtype: float64\n"
     ]
    },
    {
     "data": {
      "image/png": "[encoded data removed]",
      "text/plain": [
       "<Figure size 1200x800 with 2 Axes>"
      ]
     },
     "metadata": {},
     "output_type": "display_data"
    }
   ],
   "source": [
    "print(train['temp'].describe())\n",
    "fig, ax = plt.subplots(1, 2, figsize=(12, 8))\n",
    "sns.boxplot(train['temp'], orient='h', ax=ax[0])\n",
    "sns.kdeplot(train['temp'], ax=ax[1])\n",
    "fig.suptitle('Temperature distribution')\n",
    "plt.show()"
   ]
  },
  {
   "cell_type": "code",
   "execution_count": 22,
   "metadata": {},
   "outputs": [
    {
     "data": {
      "text/plain": [
       "<Axes: xlabel='wind_speed', ylabel='Density'>"
      ]
     },
     "execution_count": 22,
     "metadata": {},
     "output_type": "execute_result"
    },
    {
     "data": {
      "image/png": "[encoded data removed]",
      "text/plain": [
       "<Figure size 640x480 with 1 Axes>"
      ]
     },
     "metadata": {},
     "output_type": "display_data"
    }
   ],
   "source": [
    "sns.kdeplot(train['wind_speed'])"
   ]
  },
  {
   "cell_type": "code",
   "execution_count": null,
   "metadata": {},
   "outputs": [],
   "source": []
  },
  {
   "cell_type": "code",
   "execution_count": null,
   "metadata": {},
   "outputs": [],
   "source": [
    "from autogluon.tabular import TabularDataset, TabularPredictor\n",
    "import pandas as pd\n",
    "import numpy as np\n",
    "import random\n",
    "import os"
   ]
  },
  {
   "cell_type": "code",
   "execution_count": null,
   "metadata": {},
   "outputs": [],
   "source": [
    "def seed_everything(seed):\n",
    "    random.seed(seed)\n",
    "    os.environ['PYTHONHASHSEED'] = str(seed)\n",
    "    np.random.seed(seed)\n",
    "\n",
    "seed_everything(42) # Seed 고정"
   ]
  },
  {
   "cell_type": "code",
   "execution_count": null,
   "metadata": {},
   "outputs": [],
   "source": [
    "def load_dataset(path):    \n",
    "    # cols = ['id', 'month', 'day', 'time', 'temp', 'abs_temp', 'dew_temp', 'hum', 'air_pressure', 'sat_pressure',\n",
    "    #         'actual_pressure', 'vapor_pressure_deficlt', 'vapor_amount', 'air_density', 'wind_direction', 'wind_speed']\n",
    "    train = pd.read_csv(path + 'train.csv')\n",
    "    test = pd.read_csv(path + 'test.csv')\n",
    "    train.columns = cols\n",
    "    test.columns = cols[:-1]\n",
    "    submission = pd.read_csv(path + 'sample_submission.csv')\n",
    "    return train, test, submission\n",
    "\n",
    "path = 'data/'\n",
    "train, test, submission = load_dataset(path)"
   ]
  },
  {
   "cell_type": "code",
   "execution_count": null,
   "metadata": {},
   "outputs": [],
   "source": [
    "train.drop('ID', axis=1, inplace=True)\n",
    "test.drop('ID', axis=1, inplace=True)"
   ]
  },
  {
   "cell_type": "code",
   "execution_count": null,
   "metadata": {},
   "outputs": [],
   "source": [
    "display(train.tail(2))\n",
    "display(test.tail(2))\n",
    "display(submission.tail(2))"
   ]
  },
  {
   "cell_type": "code",
   "execution_count": null,
   "metadata": {},
   "outputs": [],
   "source": [
    "from sklearn.preprocessing import LabelEncoder\n",
    "\n",
    "# tree모델은 오히려 one-hot encoding이 성능이 저하되는 경우가 있음\n",
    "le = LabelEncoder()\n",
    "le = le.fit(train['측정 시간대'])\n",
    "train['측정 시간대'] = le.transform(train['측정 시간대'])\n",
    "test['측정 시간대'] = le.transform(test['측정 시간대'])"
   ]
  },
  {
   "cell_type": "code",
   "execution_count": null,
   "metadata": {},
   "outputs": [],
   "source": [
    "label = '풍속 (m/s)'"
   ]
  },
  {
   "cell_type": "code",
   "execution_count": null,
   "metadata": {},
   "outputs": [],
   "source": [
    "print(\"Summary of class variable: \\n\", train[label].describe())"
   ]
  },
  {
   "cell_type": "code",
   "execution_count": null,
   "metadata": {},
   "outputs": [],
   "source": [
    "# feature engeneering \n",
    "# 연속형 월, 날짜 변경\n",
    "def encode(data, col, max_val):\n",
    "  data[col + '_sin'] = np.sin(2 * np.pi * data[col]/max_val)\n",
    "  data[col + '_cos'] = np.cos(2 * np.pi * data[col]/max_val)\n",
    "  return data"
   ]
  },
  {
   "cell_type": "code",
   "execution_count": null,
   "metadata": {},
   "outputs": [],
   "source": [
    "train = encode(train, '월', 12)\n",
    "train = encode(train, '일', 31)\n",
    "test = encode(test, '월', 12)\n",
    "test = encode(test, '일', 31)\n",
    "\n",
    "train.drop(['월', '일'], axis=1, inplace=True)\n",
    "test.drop(['월', '일'], axis=1, inplace=True)"
   ]
  },
  {
   "cell_type": "code",
   "execution_count": null,
   "metadata": {},
   "outputs": [],
   "source": [
    "train['절대 습도'] = (train['상대 습도 (%)'] * train['포화 증기압(mbar)'] * 10) / (2.16679 * train['절대 온도(K)'])\n",
    "test['절대 습도'] = (test['상대 습도 (%)'] * test['포화 증기압(mbar)'] * 10) / (2.16679 * test['절대 온도(K)'])"
   ]
  },
  {
   "cell_type": "code",
   "execution_count": null,
   "metadata": {},
   "outputs": [],
   "source": [
    "time_limit = 3600*3\n",
    "metric = 'mean_absolute_error'\n",
    "predictor = TabularPredictor(label, eval_metric=metric, path='wind_preprocess_3').fit(train, time_limit=time_limit, presets='best_quality', num_stack_levels=3)"
   ]
  },
  {
   "cell_type": "code",
   "execution_count": null,
   "metadata": {},
   "outputs": [],
   "source": [
    "predictor.fit_summary(show_plot=True)"
   ]
  },
  {
   "cell_type": "code",
   "execution_count": null,
   "metadata": {},
   "outputs": [],
   "source": [
    "submission['풍속 (m/s)'] = predictor.predict(test)\n",
    "submission.tail(2)"
   ]
  },
  {
   "cell_type": "code",
   "execution_count": null,
   "metadata": {},
   "outputs": [],
   "source": [
    "submission.to_csv(path + 'submission_3hour.csv', index=  False)"
   ]
  },
  {
   "cell_type": "code",
   "execution_count": null,
   "metadata": {},
   "outputs": [],
   "source": []
  },
  {
   "cell_type": "code",
   "execution_count": null,
   "metadata": {},
   "outputs": [],
   "source": []
  },
  {
   "cell_type": "code",
   "execution_count": null,
   "metadata": {},
   "outputs": [],
   "source": []
  },
  {
   "cell_type": "code",
   "execution_count": null,
   "metadata": {},
   "outputs": [],
   "source": []
  },
  {
   "cell_type": "code",
   "execution_count": null,
   "metadata": {},
   "outputs": [],
   "source": []
  },
  {
   "cell_type": "code",
   "execution_count": null,
   "metadata": {},
   "outputs": [],
   "source": []
  },
  {
   "cell_type": "code",
   "execution_count": null,
   "metadata": {},
   "outputs": [],
   "source": []
  },
  {
   "cell_type": "code",
   "execution_count": null,
   "metadata": {},
   "outputs": [],
   "source": []
  },
  {
   "cell_type": "code",
   "execution_count": null,
   "metadata": {},
   "outputs": [],
   "source": []
  },
  {
   "cell_type": "code",
   "execution_count": null,
   "metadata": {},
   "outputs": [],
   "source": []
  },
  {
   "cell_type": "code",
   "execution_count": null,
   "metadata": {},
   "outputs": [],
   "source": []
  },
  {
   "cell_type": "code",
   "execution_count": null,
   "metadata": {},
   "outputs": [],
   "source": []
  },
  {
   "cell_type": "code",
   "execution_count": null,
   "metadata": {},
   "outputs": [],
   "source": []
  },
  {
   "cell_type": "code",
   "execution_count": null,
   "metadata": {},
   "outputs": [],
   "source": []
  },
  {
   "cell_type": "code",
   "execution_count": null,
   "metadata": {},
   "outputs": [],
   "source": []
  },
  {
   "cell_type": "code",
   "execution_count": null,
   "metadata": {},
   "outputs": [],
   "source": []
  },
  {
   "cell_type": "code",
   "execution_count": null,
   "metadata": {},
   "outputs": [],
   "source": []
  },
  {
   "cell_type": "code",
   "execution_count": null,
   "metadata": {},
   "outputs": [],
   "source": []
  },
  {
   "cell_type": "code",
   "execution_count": null,
   "metadata": {},
   "outputs": [],
   "source": []
  },
  {
   "cell_type": "code",
   "execution_count": null,
   "metadata": {},
   "outputs": [],
   "source": []
  },
  {
   "cell_type": "code",
   "execution_count": null,
   "metadata": {},
   "outputs": [],
   "source": []
  },
  {
   "cell_type": "code",
   "execution_count": null,
   "metadata": {},
   "outputs": [],
   "source": []
  },
  {
   "cell_type": "code",
   "execution_count": null,
   "metadata": {},
   "outputs": [],
   "source": []
  },
  {
   "cell_type": "code",
   "execution_count": null,
   "metadata": {},
   "outputs": [],
   "source": []
  },
  {
   "cell_type": "code",
   "execution_count": null,
   "metadata": {},
   "outputs": [],
   "source": []
  },
  {
   "cell_type": "code",
   "execution_count": null,
   "metadata": {},
   "outputs": [],
   "source": []
  },
  {
   "cell_type": "code",
   "execution_count": null,
   "metadata": {},
   "outputs": [],
   "source": []
  },
  {
   "cell_type": "code",
   "execution_count": null,
   "metadata": {},
   "outputs": [],
   "source": []
  },
  {
   "cell_type": "code",
   "execution_count": null,
   "metadata": {},
   "outputs": [],
   "source": []
  },
  {
   "cell_type": "code",
   "execution_count": null,
   "metadata": {},
   "outputs": [],
   "source": []
  },
  {
   "cell_type": "code",
   "execution_count": null,
   "metadata": {},
   "outputs": [],
   "source": []
  },
  {
   "cell_type": "code",
   "execution_count": null,
   "metadata": {},
   "outputs": [],
   "source": []
  },
  {
   "cell_type": "code",
   "execution_count": null,
   "metadata": {},
   "outputs": [],
   "source": []
  },
  {
   "cell_type": "code",
   "execution_count": null,
   "metadata": {},
   "outputs": [],
   "source": []
  },
  {
   "cell_type": "code",
   "execution_count": null,
   "metadata": {},
   "outputs": [],
   "source": []
  },
  {
   "cell_type": "code",
   "execution_count": null,
   "metadata": {},
   "outputs": [],
   "source": []
  },
  {
   "cell_type": "code",
   "execution_count": null,
   "metadata": {},
   "outputs": [],
   "source": []
  },
  {
   "cell_type": "code",
   "execution_count": null,
   "metadata": {},
   "outputs": [],
   "source": []
  },
  {
   "cell_type": "code",
   "execution_count": null,
   "metadata": {},
   "outputs": [],
   "source": []
  },
  {
   "cell_type": "code",
   "execution_count": null,
   "metadata": {},
   "outputs": [],
   "source": []
  },
  {
   "cell_type": "code",
   "execution_count": null,
   "metadata": {},
   "outputs": [],
   "source": []
  },
  {
   "cell_type": "code",
   "execution_count": null,
   "metadata": {},
   "outputs": [],
   "source": []
  },
  {
   "cell_type": "code",
   "execution_count": null,
   "metadata": {},
   "outputs": [],
   "source": []
  },
  {
   "cell_type": "code",
   "execution_count": null,
   "metadata": {},
   "outputs": [],
   "source": []
  },
  {
   "cell_type": "code",
   "execution_count": null,
   "metadata": {},
   "outputs": [],
   "source": []
  },
  {
   "cell_type": "code",
   "execution_count": null,
   "metadata": {},
   "outputs": [],
   "source": []
  },
  {
   "cell_type": "code",
   "execution_count": null,
   "metadata": {},
   "outputs": [],
   "source": []
  },
  {
   "cell_type": "code",
   "execution_count": null,
   "metadata": {},
   "outputs": [],
   "source": []
  },
  {
   "cell_type": "code",
   "execution_count": null,
   "metadata": {},
   "outputs": [],
   "source": []
  },
  {
   "cell_type": "code",
   "execution_count": null,
   "metadata": {},
   "outputs": [],
   "source": []
  },
  {
   "cell_type": "code",
   "execution_count": null,
   "metadata": {},
   "outputs": [],
   "source": []
  },
  {
   "cell_type": "code",
   "execution_count": null,
   "metadata": {},
   "outputs": [],
   "source": []
  },
  {
   "cell_type": "code",
   "execution_count": null,
   "metadata": {},
   "outputs": [],
   "source": []
  },
  {
   "cell_type": "code",
   "execution_count": null,
   "metadata": {},
   "outputs": [],
   "source": []
  },
  {
   "cell_type": "code",
   "execution_count": null,
   "metadata": {},
   "outputs": [],
   "source": []
  },
  {
   "cell_type": "code",
   "execution_count": null,
   "metadata": {},
   "outputs": [],
   "source": []
  },
  {
   "cell_type": "code",
   "execution_count": null,
   "metadata": {},
   "outputs": [],
   "source": []
  },
  {
   "cell_type": "code",
   "execution_count": null,
   "metadata": {},
   "outputs": [],
   "source": []
  },
  {
   "cell_type": "code",
   "execution_count": null,
   "metadata": {},
   "outputs": [],
   "source": []
  },
  {
   "cell_type": "code",
   "execution_count": null,
   "metadata": {},
   "outputs": [],
   "source": []
  },
  {
   "cell_type": "code",
   "execution_count": null,
   "metadata": {},
   "outputs": [],
   "source": []
  },
  {
   "cell_type": "code",
   "execution_count": null,
   "metadata": {},
   "outputs": [],
   "source": []
  },
  {
   "cell_type": "code",
   "execution_count": null,
   "metadata": {},
   "outputs": [],
   "source": []
  },
  {
   "cell_type": "code",
   "execution_count": null,
   "metadata": {},
   "outputs": [],
   "source": []
  },
  {
   "cell_type": "code",
   "execution_count": null,
   "metadata": {},
   "outputs": [],
   "source": []
  },
  {
   "cell_type": "code",
   "execution_count": null,
   "metadata": {},
   "outputs": [],
   "source": []
  },
  {
   "cell_type": "code",
   "execution_count": null,
   "metadata": {},
   "outputs": [],
   "source": []
  },
  {
   "cell_type": "code",
   "execution_count": null,
   "metadata": {},
   "outputs": [],
   "source": []
  },
  {
   "cell_type": "code",
   "execution_count": null,
   "metadata": {},
   "outputs": [],
   "source": []
  }
 ],
 "metadata": {
  "kernelspec": {
   "display_name": "wind_speed",
   "language": "python",
   "name": "python3"
  },
  "language_info": {
   "codemirror_mode": {
    "name": "ipython",
    "version": 3
   },
   "file_extension": ".py",
   "mimetype": "text/x-python",
   "name": "python",
   "nbconvert_exporter": "python",
   "pygments_lexer": "ipython3",
   "version": "3.10.11"
  },
  "orig_nbformat": 4
 },
 "nbformat": 4,
 "nbformat_minor": 2
}
